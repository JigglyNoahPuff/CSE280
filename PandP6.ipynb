{
 "cells": [
  {
   "cell_type": "code",
   "execution_count": 10,
   "metadata": {},
   "outputs": [
    {
     "name": "stdout",
     "output_type": "stream",
     "text": [
      "These are the ones to do:\n",
      "237, 238, 239, 240, 242, 243, 246, 247, 250, 251, 254, 257, 260, 261, 262, 265, 267, 268, 269, 270, 271, 272, 273, 274, 275, 276, 277, 278, 279, 280, 281, 282, 283, 284, 285, 286, 287, 288, 289, 290, "
     ]
    }
   ],
   "source": [
    "import numpy as np\n",
    "dontDo = [241, 244, 245, 248, 249, 252, 253, 255, 256, 258, 259, 263, 264, 266]\n",
    "print('These are the ones to do:')\n",
    "for i in range(237, 291):\n",
    "    if i not in dontDo:\n",
    "        print(i, end=', ')"
   ]
  },
  {
   "cell_type": "code",
   "execution_count": 23,
   "metadata": {},
   "outputs": [
    {
     "name": "stdout",
     "output_type": "stream",
     "text": [
      "25\n"
     ]
    }
   ],
   "source": [
    "print(np.size([265, 267, 268, 269, 270, 271, 272, 273, 274, 275, 276, 277, 278, 279, 280, 281, 282, 283, 284, 285, 286, 287, 288, 289, 290]))"
   ]
  },
  {
   "cell_type": "markdown",
   "metadata": {},
   "source": [
    "# Exercise 237:\n",
    "### Tessie and her friends have between them 15 boardgames, 12 card games, and one word game. If their game nights feature the word game plus one other game — either a board game or a card game — how many different game nights can they have?\n",
    "\n",
    "Both and is multiplication rule.  Either or is a sum rule.  So 1 Word Game * (15 Boardgames + 12 Cardgames) = **27 games**\n",
    "\n",
    "\n"
   ]
  },
  {
   "cell_type": "markdown",
   "metadata": {},
   "source": [
    "# Exercise 238: \n",
    "### Which basic counting principle applies to Exercise 237?\n",
    "\n",
    "Technically both the product rule and the sum rule, but the main one is the **sum rule**"
   ]
  },
  {
   "cell_type": "markdown",
   "metadata": {},
   "source": [
    "# Exercise 239:\n",
    "### Now Tessie and her friends have acquired two more word games, and have decided to vary the snacks they munch on while playing games. If a game-night configuration consists of a word game and another game and a snack, and they have 7 different types of snacks, how many different game-night configurations are possible now?\n",
    "\n",
    "1 Word Game * (15 Boardgames + 12 Cardgames) * 7 Snacks = 189 Options"
   ]
  },
  {
   "cell_type": "markdown",
   "metadata": {},
   "source": [
    "# Exercise 240:\n",
    "### Which basic counting principle applies to Exercise 239?\n",
    "\n",
    "Technically both the product rule and the sum rule, but the main one is the **product rule**"
   ]
  },
  {
   "cell_type": "markdown",
   "metadata": {},
   "source": [
    "# Exercise 242: \n",
    "### How many different functions are there from a set with 3 elements to a set with 5 elements?\n",
    "It is 5 * 5 * 5 = **125 functions**\n"
   ]
  },
  {
   "cell_type": "markdown",
   "metadata": {},
   "source": [
    "# Exercise 243:\n",
    "### How many different one-to-one functions are there from a set with 3 elements to a set with 5 elements?\n",
    "\n",
    "There would be 5 choose 3 without repetition.  Which is 5!/(5-3)! = 5 * 4 * 3  = 60  \\\n",
    "**60 different one-to-one functions**\n"
   ]
  },
  {
   "cell_type": "markdown",
   "metadata": {},
   "source": [
    "# Exercise 246:\n",
    "### The English language predominantly uses the Subject-Verb-Object word type ordering; for example, “Gary saw Alice”. Other languages might use Subject-Object-Verb or Object-Verb-Subject, etc. How many different word orderings are possible, not depending on specific words, just their type?\n",
    "\n",
    "3!/(3-3)! = 3! = 6  \\\n",
    "**6 ways to choose word orderings**"
   ]
  },
  {
   "attachments": {
    "57f92669-509d-4c69-8c63-5e0f82055dce.png": {
     "image/png": "[encoded data removed]"
    },
    "9ab0efd1-eb84-4537-97de-1e9318c2789d.png": {
     "image/png": "[encoded data removed]"
    }
   },
   "cell_type": "markdown",
   "metadata": {},
   "source": [
    "# Exercise 247:\n",
    "### Recalling the example of how many are the permutations of the letters ‘ABCDELMNO’, investigate and explain why 0! is defined to be equal to 1.\n",
    "\n",
    "![image.png](attachment:9ab0efd1-eb84-4537-97de-1e9318c2789d.png)![image.png](attachment:57f92669-509d-4c69-8c63-5e0f82055dce.png)\n",
    "\n",
    "**Answer:** Above is a proof I found online.  Basically it states that in order for the rules of math and factorials to be consistent, mathematicians agreed that 0! equals 1.  Also just plainly thinking about it, there is only one way to pick zero things.  You pick nothing."
   ]
  },
  {
   "cell_type": "markdown",
   "metadata": {},
   "source": [
    "# Exercise 250: \n",
    "### How many different sequences of initials are there for people who either have two initials (first and last) or three initials (first, middle and last)?\n",
    "\n",
    "26!/25! * 26!/25! + 26!/25! * 26!/25! * 26!/25! = 26 * 26 + 26 * 26 * 26 = **18252**"
   ]
  },
  {
   "cell_type": "code",
   "execution_count": 18,
   "metadata": {},
   "outputs": [
    {
     "name": "stdout",
     "output_type": "stream",
     "text": [
      "18252\n"
     ]
    }
   ],
   "source": [
    "x = 26 * 26 + 26 * 26 * 26\n",
    "print(x)"
   ]
  },
  {
   "cell_type": "markdown",
   "metadata": {},
   "source": [
    "# Exercise 251: \n",
    "### Exercise 251 How many different sequences can be formed using either two or three letters (A-Z) followed by either two or three digits (0-9)?\n",
    "### For example:\n",
    "- AB01\n",
    "- ABC02\n",
    "- XYZ123\n",
    "\n",
    "(26 * 26 + 26 * 26 * 26) * (10 * 10 + 10 * 10 * 10) = **20077200 different sequences** "
   ]
  },
  {
   "cell_type": "code",
   "execution_count": 19,
   "metadata": {},
   "outputs": [
    {
     "name": "stdout",
     "output_type": "stream",
     "text": [
      "20077200\n"
     ]
    }
   ],
   "source": [
    "print((26 * 26 + 26 * 26 * 26) * (10 * 10 + 10 * 10 * 10))"
   ]
  },
  {
   "cell_type": "markdown",
   "metadata": {},
   "source": [
    "# Exercise 257: \n",
    "### There are many kinds of fruit: raspberries, strawberries, blueberries, apples, oranges, bananas, kiwi, papaya, mango, just to name a few. Just choosing five from that list of nine, how many different combinations of fruit salad can you make?\n",
    "\n",
    "9 choose 5 = 9!/4!5! = (9 * 8 * 7 * 6)/ 4 * 3 * 2  = 9 * 2 * 7 = **126 ways to make a fruit salad**"
   ]
  },
  {
   "cell_type": "markdown",
   "metadata": {},
   "source": [
    "# Exercise 260: \n",
    "### How many different 3-scoop cups of ice cream are there with just 3 flavors to choose from?\n",
    "\n",
    "### Formula for this: (n−1 + r)!/((n−1)!r!)\n",
    "\n",
    "(3-1 + 3)!/(3-1)!3! = 5!/3!2! = 120/12 = **10 different 3-scoop cups**\n"
   ]
  },
  {
   "cell_type": "markdown",
   "metadata": {},
   "source": [
    "# Exercise 261:\n",
    "### (3-1 + 3)!/(3-1)!3! = 5!/3!2! = 120/12 = **10 different 3-scoop cups**\n",
    "\n",
    "(31-1 + 3)!/(31-1)!3! = 33!/30!2! = 33 * 32 * 31 / 2 = **16368 different 3-scoop cups**"
   ]
  },
  {
   "cell_type": "code",
   "execution_count": 24,
   "metadata": {},
   "outputs": [
    {
     "name": "stdout",
     "output_type": "stream",
     "text": [
      "16368.0\n"
     ]
    }
   ],
   "source": [
    "print(33 * 32 * 31 / 2)"
   ]
  },
  {
   "cell_type": "markdown",
   "metadata": {},
   "source": [
    "# Exercise 262:\n",
    "###  How many different ways are there to choose ten cookies from the three types: chocolate chip, oatmeal, and peanut butter?\n",
    "(3-1 + 10)!/(3-1)!3! = 12!/3!2! = 12!/12 = 11! = **39916800 different ten cookies choices**"
   ]
  },
  {
   "cell_type": "markdown",
   "metadata": {},
   "source": [
    "# Exercise 265:\n",
    "### What is the number of different strings that can be formed by reordering the characters in the word “SUCCESS”?\n",
    "Hint 265\n",
    "The position of the individual S’s doesn’t matter—only\n",
    "where there are S’s does. One way to see this is to label the indi-\n",
    "— and note that dif- 3 S and , 2 S, 1 S vidual letters with subscripts —\n",
    "different permutations of the letters lead to the same string when the\n",
    "subscripts are removed:\n",
    "3 S1 UCCES 2 S 2 S3 UCCES 1 S 3 S2 UCCES 1 S\n",
    "1 S2 UCCES 3 S 2 S1 UCCES 3 S 1 S3 UCCES 2 S\n",
    "These are all indistinguishable if you remove the subscripts.\n",
    "\n",
    "7! (for each letter)/3!(for the S's)2!(for the C's) = **420 different strings**"
   ]
  },
  {
   "cell_type": "markdown",
   "metadata": {},
   "source": [
    "# Exercise 267:\n",
    "### What improvements or fixes does this probability function need? Replace “Your code goes here” with what should go there.\n",
    "def probability(event, space):  \\\n",
    "\"\"\"A function that takes an event and a space and returns a number between 0 and 1. \"\"\"  \\\n",
    "result = len(event) / len(space)  \\\n",
    "**import numpy as np  \\\n",
    "result = np.size(event) / np.size(space)**  \\\n",
    "return result  "
   ]
  },
  {
   "cell_type": "code",
   "execution_count": 33,
   "metadata": {},
   "outputs": [
    {
     "name": "stdout",
     "output_type": "stream",
     "text": [
      "0.2\n"
     ]
    }
   ],
   "source": [
    "import numpy as np\n",
    "def probability(event, space):  \n",
    "    #\"\"\"A function that takes an event and a space and returns a number between 0 and 1. \"\"\"  \n",
    "    #result = len(event) / len(space)  \n",
    "    ### using numpy we can get rid of the error if event is not an array\n",
    "    result = np.size(event) / np.size(space)\n",
    "    return result  \n",
    "print(probability(1,[1,2,3,4,5]))"
   ]
  },
  {
   "cell_type": "markdown",
   "metadata": {},
   "source": [
    "# Exercise 268:\n",
    "### Generalize the two- and four-fair-coin-flipping experiment to deal with the experiment of flipping 2n coins. Find the probability of the event that n will be heads, and n will be tails.\n",
    "The probability is: 2n choose n divided by 2 to the power of 2n = **(2n)!/(n!n!)/($(2)^{2n}$)** "
   ]
  },
  {
   "cell_type": "code",
   "execution_count": 54,
   "metadata": {},
   "outputs": [
    {
     "name": "stdout",
     "output_type": "stream",
     "text": [
      "0.5\n"
     ]
    }
   ],
   "source": [
    "import math\n",
    "def coinFlip(n):\n",
    "    return (math.factorial(2 * n) / (math.factorial(n) * math.factorial(n))/(2 ** (2 * n)))\n",
    "\n",
    "print(coinFlip(1))"
   ]
  },
  {
   "cell_type": "markdown",
   "metadata": {},
   "source": [
    "# Exercise 269:\n",
    "### Ruth and Ed flip a coin to decide who’s going to do the chores. One day Ed complains — he thinks he loses too often. So Ruth says, “OK, this time you flip two coins, and I flip one. If you get more heads than I do, I’ll clean the toilets.” Ed likes Ruth’s display of generosity and says, “You’re on!” What are his chances?\n",
    "\n",
    "Ruth gets 0 and Ed doesnt get 0 = 0.5 * 0.75 = 0.375  \\\n",
    "Ruth gets 1 and Ed gets 2 = 0.5 * 0.25 = 0.125  \\\n",
    "0.375 + 0.125 = **0.5  or 50%**"
   ]
  },
  {
   "cell_type": "markdown",
   "metadata": {},
   "source": [
    "# Exercise 270:\n",
    "### What is the probability of rolling an even number with one roll of a fair die?\n",
    "3/6 = **0.5 or 50%**"
   ]
  },
  {
   "cell_type": "markdown",
   "metadata": {},
   "source": [
    "# Exercise 271:\n",
    "### When you roll two dice, what is the probability that both of them will be sixes?\n",
    "1/(6\\*6) = 1/36 = **0.02777777777 or 2.777777777%** "
   ]
  },
  {
   "cell_type": "markdown",
   "metadata": {},
   "source": [
    "# Exercise 272:\n",
    "### When you roll two dice, what is the probability that the sum of the numbers (1-6) on their faces will be a multiple of 3 — i.e., 3, 6, 9 or 12?\n",
    "4/36 = 1/9 = **0.11111111 or 11.1111111%**"
   ]
  },
  {
   "cell_type": "markdown",
   "metadata": {},
   "source": [
    "# Exercise 273:\n",
    "###  What is the probability (“Calcprob”) that the event “The first 13 letters will be in alphabetical order” will occur when randomly selecting a permutation of the 26 letters (assumed all uppercase) of the alphabet?\n",
    "\n",
    "Total Permutations = 26!/13! = A LOT or 6.476475253248e+16  \\\n",
    "I am assuming that alphabetical order means perfect so ABCDEFGHIJKLM, or BCDEFGHIJKLMN, or etc.  There are only 13 options for starting things and we dont care about the rest so 13 * 13! options for the numerator.\n",
    "We then divide that by the space or total permutations.\n",
    "\n",
    "This is my answer: **1.2499278887756476e-06**\n",
    "\n",
    "P.S.  I did not enjoy this problem"
   ]
  },
  {
   "cell_type": "code",
   "execution_count": 58,
   "metadata": {},
   "outputs": [
    {
     "data": {
      "text/plain": [
       "1.2499278887756476e-06"
      ]
     },
     "execution_count": 58,
     "metadata": {},
     "output_type": "execute_result"
    }
   ],
   "source": [
    "(13 * math.factorial(13)) / (math.factorial(26)/math.factorial(13))"
   ]
  },
  {
   "cell_type": "markdown",
   "metadata": {},
   "source": [
    "# Exercise 274:\n",
    "### Calcprob “The first and last letters will be B and Y.”\n",
    "(1 * 1 * (24! / (24-24)!))/(Total Permutations) = **0.0015384615384615385**"
   ]
  },
  {
   "cell_type": "code",
   "execution_count": 62,
   "metadata": {},
   "outputs": [
    {
     "data": {
      "text/plain": [
       "0.0015384615384615385"
      ]
     },
     "execution_count": 62,
     "metadata": {},
     "output_type": "execute_result"
    }
   ],
   "source": [
    "math.factorial(24) / math.factorial(26)"
   ]
  },
  {
   "cell_type": "markdown",
   "metadata": {},
   "source": [
    "# Exercise 275:\n",
    "### Calcprob “The letter I will come before both J and K.”\n",
    "\n",
    "I location  |   Possibilties   \\\n",
    "1           |   25!        \\\n",
    "2           |   23 \\* 24!  \\\n",
    "3           |   22 \\* 23!  \\\n",
    "4           |   21 \\* 22!  \\\n",
    "5           |   20 \\* 21!  \\\n",
    "6           |   19 \\* 20!  \\\n",
    "7           |   18 \\* 19!  \\\n",
    "8           |   17 \\* 18!  \\\n",
    "9           |   16 \\* 17!  \\\n",
    "10          |   15 \\* 16!  \\\n",
    "11          |   14 \\* 15!  \\  \n",
    "12          |   13 \\* 14!  \\\n",
    "13          |   12 \\* 13!  \\\n",
    "14          |   11 \\* 12!  \\\n",
    "15          |   10 \\* 11!  \\\n",
    "16          |    9 \\* 10!  \\\n",
    "17          |    8 \\*  9!  \\\n",
    "18          |    7 \\*  8!  \\\n",
    "19          |    6 \\*  7!  \\\n",
    "20          |    5 \\*  6!  \\\n",
    "21          |    4 \\*  5!  \\\n",
    "22          |    3 \\*  4!  \\\n",
    "23          |    2 \\*  3!  \\\n",
    "24          |    1 \\*  2!  \\\n",
    "25          |    0 \\*  1!  \\\n",
    "26          |    0 \\*  0!  \\\n",
    "\n",
    "Add up all the probabilities together and you get: **0.07531759271654098**"
   ]
  },
  {
   "cell_type": "code",
   "execution_count": 72,
   "metadata": {},
   "outputs": [
    {
     "name": "stdout",
     "output_type": "stream",
     "text": [
      "0.07531759271654098\n"
     ]
    }
   ],
   "source": [
    "x = range(1,24)\n",
    "result = math.factorial(25)\n",
    "for i in x:\n",
    "     result += (i * math.factorial(i + 1))\n",
    "        \n",
    "print(result/math.factorial(26))"
   ]
  },
  {
   "cell_type": "markdown",
   "metadata": {},
   "source": [
    "# Exercise 276:\n",
    "### Calcprob “The letters O and P will be next to each other.”\n",
    "OP can be in 25 different spots OPxxxxxxxxxxxxxxxxxxxxxxxx or up to xxxxxxxxxxxxxxxxxxxxxxxxOP or PO can be in 25 different spots POxxxxxxxxxxxxxxxxxxxxxxxx or up to xxxxxxxxxxxxxxxxxxxxxxxxPO  \\\n",
    "So (25 \\* 24!) + (25 \\* 24!)) / 26! = (25! + 25!) / 26! = (2 \\* 25!) / 26! = **0.07692307692307693**"
   ]
  },
  {
   "cell_type": "code",
   "execution_count": 73,
   "metadata": {},
   "outputs": [
    {
     "data": {
      "text/plain": [
       "0.07692307692307693"
      ]
     },
     "execution_count": 73,
     "metadata": {},
     "output_type": "execute_result"
    }
   ],
   "source": [
    "2 * math.factorial(25) / math.factorial(26)"
   ]
  },
  {
   "cell_type": "markdown",
   "metadata": {},
   "source": [
    "# Exercise 277:\n",
    "### Calcprob “The letters U and V will be separated by at least 23 letters.”\n",
    "U can be in spot 1 or 2 with V in spot 25 or 26.  The inverse is also true.  \\\n",
    "So (2 * (3 * 24!)) / 26! = (6 * 24!) / 26! = **0.009230769230769232**"
   ]
  },
  {
   "cell_type": "code",
   "execution_count": 76,
   "metadata": {},
   "outputs": [
    {
     "name": "stdout",
     "output_type": "stream",
     "text": [
      "0.009230769230769232\n"
     ]
    }
   ],
   "source": [
    "print((6 * math.factorial(24) / math.factorial(26)))"
   ]
  },
  {
   "cell_type": "markdown",
   "metadata": {},
   "source": [
    "# Exercise 278:\n",
    "### What is the probability that a randomly chosen 3-digit number unambiguously designates a date (month number plus day number paired without punctuation)? E.g., 111 is ambiguous, it could mean January 11th (month 1, day 11) or November 1st (month 11, day 1). Don’t count numbers with zeros in the second or third position (why not the first position?) as ambiguous, given the rule that days are never written with a leading zero. E.g., 101 can only mean October 1st, not January 1st. Eliminate from the event space any invalid numbers, e.g. 345, as neither 3/45 nor 34/5 is a valid date.\n",
    "\n",
    "Total number of possibilities is 1000.  000-999.\n",
    "\n",
    "000 - 100 are not valid.\n",
    "Any number x31-x99 are not valid.\n",
    "\n",
    "101-131 are possible valids.\n",
    "210-228 are possible valids.\n",
    "310-331 are possible valids.\n",
    "410-430 are possible valids.\n",
    "510-531 are possible valids.\n",
    "610-630 are possible valids.\n",
    "710-731 are possible valids.\n",
    "810-831 are possible valids.\n",
    "910-930 are possible valids.\n",
    "\n",
    "111 is invalid.\n",
    "121 is invalid.\n",
    "\n",
    "210-228 are valids.\n",
    "310-331 are valids.\n",
    "410-430 are valids.\n",
    "510-531 are valids.\n",
    "610-630 are valids.\n",
    "710-731 are valids.\n",
    "810-831 are valids.\n",
    "910-930 are valids.\n",
    "\n",
    "101-131 contains 29 valid numbers.\n",
    "210-228 contains 18 valid numbers.\n",
    "310-331 contains 21 valid numbers.\n",
    "410-430 contains 20 valid numbers.\n",
    "510-531 contains 21 valid numbers.\n",
    "610-630 contains 20 valid numbers.\n",
    "710-731 contains 21 valid numbers.\n",
    "810-831 contains 21 valid numbers.\n",
    "910-930 contains 20 valid numbers.\n",
    "\n",
    "29+18+21+20+21+20+21+21+20= **191 valid numbers.**"
   ]
  },
  {
   "cell_type": "code",
   "execution_count": 77,
   "metadata": {},
   "outputs": [
    {
     "data": {
      "text/plain": [
       "191"
      ]
     },
     "execution_count": 77,
     "metadata": {},
     "output_type": "execute_result"
    }
   ],
   "source": [
    "29+18+21+20+21+20+21+21+20"
   ]
  },
  {
   "cell_type": "markdown",
   "metadata": {},
   "source": [
    "# Exercise 279:\n",
    "### A dark room contains two barrels. The first barrel is filled with green marbles, the second is filled with a half-and-half mixture of green and blue marbles. So there’s a 100% chance of choosing a green marble from the first barrel, and a 50% chance of choosing either color in the second barrel. You reach into one of the barrels (it’s dark so you don’t know which one) and select a marble at random. It’s green. You select another. It’s green too. You select a third, a fourth, a fifth, etc. Green each time. What is the minimum number of marbles you need to select to exceed a probability of 99% that you are picking them out of the all-green barrel? (Note that there are enough marbles so that the answer does not depend on how many marbles are in the second barrel.)\n",
    "\n",
    "$(0.5)^{n}$ <= .01  \\\n",
    "You would need to pick **6 marbles**"
   ]
  },
  {
   "cell_type": "code",
   "execution_count": 80,
   "metadata": {},
   "outputs": [
    {
     "name": "stdout",
     "output_type": "stream",
     "text": [
      "6\n"
     ]
    }
   ],
   "source": [
    "x = 0.5\n",
    "count = 0\n",
    "while(x > .01):\n",
    "    x *= 0.5\n",
    "    count += 1\n",
    "\n",
    "print(count)"
   ]
  },
  {
   "cell_type": "markdown",
   "metadata": {},
   "source": [
    "# Exercise 280:\n",
    "### Find the connection between the strings in Table 5.4 and those in Table 5.5.\n",
    "**They both show all the possible combinations of rolling 5 dice but in different ways.**"
   ]
  },
  {
   "cell_type": "markdown",
   "metadata": {},
   "source": [
    "# Exercise 281:\n",
    "### Find the connection between the strings in Table 5.5 and the corresponding dice rolls, the first nine of which are: 66666, 56666, 55666, 55566, 55556, 55555, 46666, 45666, and 45566.\n",
    "\n",
    "**Answer:** They are like the multiset representation.  000005 would mean that there are five 'sixes' such as in the first. 000014 would be one 'five' and four 'sixes'"
   ]
  },
  {
   "cell_type": "markdown",
   "metadata": {},
   "source": [
    "# Exercise 282:\n",
    "### Calculate the true probability (“calctrue”) of getting a Yahtzee (five of a kind).\n",
    "6/252 = **0.023809523809523808**"
   ]
  },
  {
   "cell_type": "code",
   "execution_count": null,
   "metadata": {},
   "outputs": [],
   "source": [
    "count = 0\n",
    "rollsList = str.split('000005 000014 000023 000032 000041 000050 000104 000113 000122 000131 000140 000203 000212 000221 000230 000302 000311 000320 000401 000410 000500 001004 001013 001022 001031 001040 001103 001112 001121 001130 001202 001211 001220 001301 001310 001400 002003 002012 002021 002030 002102 002111 002120 002201 002210 002300 003002 003011 003020 003101 003110 003200 004001 004010 004100 005000 010004 010013 010022 010031 010040 010103 010112 010121 010130 010202 010211 010220 010301 010310 010400 011003 011012 011021 011030 011102 011111 011120 011201 011210 011300 012002 012011 012020 012101 012110 012200 013001 013010 013100 014000 020003 020012 020021 020030 020102 020111 020120 020201 020210 020300 021002 021011 021020 021101 021110 021200 022001 022010 022100 023000 030002 030011 030020 030101 030110 030200 031001 031010 031100 032000 040001 040010 040100 041000 050000 100004 100013 100022 100031 100040 100103 100112 100121 100130 100202 100211 100220 100301 100310 100400 101003 101012 101021 101030 101102 101111 101120 101201 101210 101300 102002 102011 102020 102101 102110 102200 103001 103010 103100 104000 110003 110012 110021 110030 110102 110111 110120 110201 110210 110300 111002 111011 111020 111101 111110 111200 112001 112010 112100 113000 120002 120011 120020 120101 120110 120200 121001 121010 121100 122000 130001 130010 130100 131000 140000 200003 200012 200021 200030 200102 200111 200120 200201 200210 200300 201002 201011 201020 201101 201110 201200 202001 202010 202100 203000 210002 210011 210020 210101 210110 210200 211001 211010 211100 212000 220001 220010 220100 221000 230000 300002 300011 300020 300101 300110 300200 301001 301010 301100 302000 310001 310010 310100 311000 320000 400001 400010 400100 401000 410000 500000')\n",
    "for i in rollsList:\n",
    "    if (i.find('5') != -1): \n",
    "        count += 1\n",
    "print(count)\n",
    "print(count/np.size(rollsList))"
   ]
  },
  {
   "cell_type": "markdown",
   "metadata": {},
   "source": [
    "# Exercise 283:\n",
    "### Calctrue four of a kind.\n",
    "30/252 = **0.11904761904761904**"
   ]
  },
  {
   "cell_type": "code",
   "execution_count": 131,
   "metadata": {},
   "outputs": [
    {
     "name": "stdout",
     "output_type": "stream",
     "text": [
      "30\n",
      "0.11904761904761904\n"
     ]
    }
   ],
   "source": [
    "count = 0\n",
    "for i in rollsList:\n",
    "    if (i.find('4') != -1): \n",
    "        count += 1\n",
    "print(count)\n",
    "print(count/np.size(rollsList))"
   ]
  },
  {
   "cell_type": "markdown",
   "metadata": {},
   "source": [
    "# Exercise 284:\n",
    "### Calctrue a straight.\n",
    "2/252 = **0.007936507936507936**"
   ]
  },
  {
   "cell_type": "code",
   "execution_count": 132,
   "metadata": {},
   "outputs": [
    {
     "name": "stdout",
     "output_type": "stream",
     "text": [
      "2\n",
      "0.007936507936507936\n"
     ]
    }
   ],
   "source": [
    "count = 0\n",
    "for i in rollsList:\n",
    "    if (i.find('11111') != -1): \n",
    "        count += 1\n",
    "print(count)\n",
    "print(count/np.size(rollsList))"
   ]
  },
  {
   "cell_type": "markdown",
   "metadata": {},
   "source": [
    "# Exercise 285:\n",
    "### Calctrue a full house.\n",
    "30/252 = **0.11904761904761904**"
   ]
  },
  {
   "cell_type": "code",
   "execution_count": 137,
   "metadata": {},
   "outputs": [
    {
     "name": "stdout",
     "output_type": "stream",
     "text": [
      "30\n",
      "0.11904761904761904\n"
     ]
    }
   ],
   "source": [
    "count = 0\n",
    "for i in rollsList:\n",
    "    if (i.find('2') != -1) and (i.find('3') != -1): \n",
    "        count += 1\n",
    "print(count)\n",
    "print(count/np.size(rollsList))"
   ]
  },
  {
   "cell_type": "markdown",
   "metadata": {},
   "source": [
    "# Exercise 286:\n",
    "### Calctrue three of a kind.\n",
    "60/252 = **23809523809523808**"
   ]
  },
  {
   "cell_type": "code",
   "execution_count": 164,
   "metadata": {},
   "outputs": [
    {
     "name": "stdout",
     "output_type": "stream",
     "text": [
      "60\n",
      "0.23809523809523808\n"
     ]
    }
   ],
   "source": [
    "count = 0\n",
    "for i in rollsList:\n",
    "    if (i.find('3') != -1) and (i.find('2') == -1): \n",
    "        count += 1\n",
    "print(count)\n",
    "print(count/np.size(rollsList))"
   ]
  },
  {
   "cell_type": "markdown",
   "metadata": {},
   "source": [
    "# Exercise 287:\n",
    "### Calctrue two pair\n",
    "60/252 = **0.23809523809523808**"
   ]
  },
  {
   "cell_type": "code",
   "execution_count": 163,
   "metadata": {},
   "outputs": [
    {
     "name": "stdout",
     "output_type": "stream",
     "text": [
      "60\n",
      "0.23809523809523808\n"
     ]
    }
   ],
   "source": [
    "count = 0\n",
    "for i in rollsList:\n",
    "    where = i.find('2')\n",
    "    if (i.find('2') != -1): \n",
    "        if (i.find('2', where + 1) != -1): \n",
    "            count += 1\n",
    "print(count)\n",
    "print(count/np.size(rollsList))"
   ]
  },
  {
   "cell_type": "markdown",
   "metadata": {},
   "source": [
    "# Exercise 288:\n",
    "### Calctrue one pair.\n",
    "60/252 = **0.23809523809523808**"
   ]
  },
  {
   "cell_type": "code",
   "execution_count": 162,
   "metadata": {},
   "outputs": [
    {
     "name": "stdout",
     "output_type": "stream",
     "text": [
      "60\n",
      "0.23809523809523808\n"
     ]
    }
   ],
   "source": [
    "count = 0\n",
    "for i in rollsList:\n",
    "    if (i.find('2') != -1) and (i.find('3') == -1) and (i.find('2', i.find('2') + 1) == -1): \n",
    "        count += 1\n",
    "print(count)\n",
    "print(count/np.size(rollsList))"
   ]
  },
  {
   "cell_type": "markdown",
   "metadata": {},
   "source": [
    "# Exercise 289:\n",
    "### Calctrue junk.\n",
    "4/252 = **0.015873015873015872**"
   ]
  },
  {
   "cell_type": "code",
   "execution_count": 160,
   "metadata": {},
   "outputs": [
    {
     "name": "stdout",
     "output_type": "stream",
     "text": [
      "4\n",
      "0.015873015873015872\n"
     ]
    }
   ],
   "source": [
    "count = 0\n",
    "for i in rollsList:\n",
    "    if (i.find('2') == -1) and (i.find('3') == -1) and (i.find('4') == -1) and (i.find('5') == -1) and (i.find('11111') == -1): \n",
    "        count += 1\n",
    "print(count)\n",
    "print(count/np.size(rollsList))"
   ]
  },
  {
   "cell_type": "markdown",
   "metadata": {},
   "source": [
    "# Exercise 290:\n",
    "### Tabulate all eight probabilities and make sure they add up to 1. Based on this, which type of roll should have the highest scoring value?\n",
    "**Answer:** 0.11904761904761904 + 0.11904761904761904 + 0.007936507936507936 + 0.23809523809523808 + 0.23809523809523808 + 0.23809523809523808 + 0.015873015873015872 + 0.023809523809523808 = 0.99999999999999   *Rounds to:* 1   \\\n",
    "A Straight should have the highest scoring value."
   ]
  },
  {
   "cell_type": "code",
   "execution_count": 171,
   "metadata": {},
   "outputs": [
    {
     "name": "stdout",
     "output_type": "stream",
     "text": [
      "Total Probability Equals 0.9999999999999999\n",
      "Total Number of Outcomes: 252\n"
     ]
    }
   ],
   "source": [
    "#6/252 = 0.023809523809523808\n",
    "#4/252 = 0.015873015873015872\n",
    "#60/252 = 0.23809523809523808\n",
    "#60/252 = 0.23809523809523808\n",
    "#30/252 = 0.11904761904761904\n",
    "#2/252 = 0.007936507936507936\n",
    "#60/252 = 0.23809523809523808\n",
    "#30/252 = 0.11904761904761904\n",
    "print('Total Probability Equals ' + str(0.11904761904761904 + 0.11904761904761904 + 0.007936507936507936 + 0.23809523809523808 + 0.23809523809523808 + 0.23809523809523808 + 0.015873015873015872 + 0.023809523809523808))\n",
    "print('Total Number of Outcomes: ' + str(6+4+60+60+30+2+60+30))"
   ]
  }
 ],
 "metadata": {
  "kernelspec": {
   "display_name": "Python 3",
   "language": "python",
   "name": "python3"
  },
  "language_info": {
   "codemirror_mode": {
    "name": "ipython",
    "version": 3
   },
   "file_extension": ".py",
   "mimetype": "text/x-python",
   "name": "python",
   "nbconvert_exporter": "python",
   "pygments_lexer": "ipython3",
   "version": "3.8.2"
  }
 },
 "nbformat": 4,
 "nbformat_minor": 4
}
